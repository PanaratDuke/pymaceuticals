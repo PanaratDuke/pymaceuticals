{
 "cells": [
  {
   "cell_type": "code",
   "execution_count": 36,
   "metadata": {},
   "outputs": [],
   "source": [
    "#--Dependencies and Setup\n",
    "import matplotlib.pyplot as plt\n",
    "import pandas as pd\n",
    "import scipy.stats as st\n",
    "from scipy.stats import linregress\n",
    "from sklearn import datasets\n",
    "import numpy as np"
   ]
  },
  {
   "cell_type": "code",
   "execution_count": 37,
   "metadata": {},
   "outputs": [],
   "source": [
    "#--Study data files\n",
    "mouse_metadata = \"data/Mouse_metadata.csv\"\n",
    "study_results = \"data/Study_results.csv\""
   ]
  },
  {
   "cell_type": "code",
   "execution_count": 38,
   "metadata": {},
   "outputs": [],
   "source": [
    "#--Read the mouse data and the study results\n",
    "mouse_metadata = pd.read_csv(mouse_metadata)\n",
    "study_results = pd.read_csv(study_results)"
   ]
  },
  {
   "cell_type": "code",
   "execution_count": 43,
   "metadata": {},
   "outputs": [],
   "source": [
    "# mouse_metadata.head()\n",
    "# mouse_metadata.count()"
   ]
  },
  {
   "cell_type": "code",
   "execution_count": 44,
   "metadata": {},
   "outputs": [],
   "source": [
    "# study_results.head()\n",
    "# study_results.count"
   ]
  },
  {
   "cell_type": "code",
   "execution_count": 45,
   "metadata": {},
   "outputs": [],
   "source": [
    "combined_data = pd.merge(study_results,mouse_metadata, on='Mouse ID')"
   ]
  },
  {
   "cell_type": "code",
   "execution_count": 49,
   "metadata": {},
   "outputs": [],
   "source": [
    "#--Calculate mean \n",
    "mouse_df = combined_data[['Drug Regimen','Tumor Volume (mm3)']]\n",
    "mouse_mean = mouse_df.groupby([\"Drug Regimen\"]).mean()\n",
    "mouse_mean = mouse_mean.rename(columns={'Tumor Volume (mm3)':\"Mean Tumor Volume\"})\n",
    "# mouse_mean.head()"
   ]
  },
  {
   "cell_type": "code",
   "execution_count": 73,
   "metadata": {},
   "outputs": [],
   "source": [
    "#--Calculate median\n",
    "mouse_median = mouse_df.groupby([\"Drug Regimen\"]).median()\n",
    "mouse_median = mouse_median.rename(columns={'Tumor Volume (mm3)':\"Median Tumor Volume\"})\n",
    "# mouse_median.head()"
   ]
  },
  {
   "cell_type": "code",
   "execution_count": 74,
   "metadata": {},
   "outputs": [],
   "source": [
    "#--Combine mean and median\n",
    "mouse_table = pd.merge(mouse_mean,mouse_median, on = 'Drug Regimen')\n",
    "# mouse_table.head()"
   ]
  },
  {
   "cell_type": "code",
   "execution_count": 75,
   "metadata": {},
   "outputs": [],
   "source": [
    "#--Calculate Variance\n",
    "mouse_var = mouse_df.groupby([\"Drug Regimen\"]).var()\n",
    "mouse_var = mouse_var.rename(columns={'Tumor Volume (mm3)':\"Tumor Volume Variance\"})\n",
    "# mouse_var.head()"
   ]
  },
  {
   "cell_type": "code",
   "execution_count": 76,
   "metadata": {},
   "outputs": [],
   "source": [
    "#--Combine mean, median with Variance\n",
    "\n",
    "mouse_table = pd.merge(mouse_table,mouse_var, on = 'Drug Regimen')\n",
    "# mouse_table.head()"
   ]
  },
  {
   "cell_type": "code",
   "execution_count": 77,
   "metadata": {},
   "outputs": [],
   "source": [
    "#--Calculate Standard Deviation\n",
    "mouse_std = mouse_df.groupby([\"Drug Regimen\"]).std()\n",
    "mouse_std = mouse_std.rename(columns={'Tumor Volume (mm3)':\"Tumor Volume Std. Dev.\"})\n",
    "# mouse_std.head()"
   ]
  },
  {
   "cell_type": "code",
   "execution_count": 78,
   "metadata": {},
   "outputs": [],
   "source": [
    "#--Combine mean, median, var with std. dev\n",
    "mouse_table = pd.merge(mouse_table,mouse_std, on = 'Drug Regimen')\n",
    "# mouse_table.head()"
   ]
  },
  {
   "cell_type": "code",
   "execution_count": 79,
   "metadata": {},
   "outputs": [],
   "source": [
    "#--Calculate std. err\n",
    "mouse_sem = mouse_df.groupby([\"Drug Regimen\"]).sem()\n",
    "mouse_sem = mouse_sem.rename(columns={'Tumor Volume (mm3)':\"Tumor Volume Std. Err.\"})\n",
    "# mouse_sem.head()"
   ]
  },
  {
   "cell_type": "markdown",
   "metadata": {},
   "source": [
    "## Summary statistics Table 1"
   ]
  },
  {
   "cell_type": "code",
   "execution_count": 80,
   "metadata": {},
   "outputs": [
    {
     "data": {
      "text/html": [
       "<div>\n",
       "<style scoped>\n",
       "    .dataframe tbody tr th:only-of-type {\n",
       "        vertical-align: middle;\n",
       "    }\n",
       "\n",
       "    .dataframe tbody tr th {\n",
       "        vertical-align: top;\n",
       "    }\n",
       "\n",
       "    .dataframe thead th {\n",
       "        text-align: right;\n",
       "    }\n",
       "</style>\n",
       "<table border=\"1\" class=\"dataframe\">\n",
       "  <thead>\n",
       "    <tr style=\"text-align: right;\">\n",
       "      <th></th>\n",
       "      <th>Mean Tumor Volume</th>\n",
       "      <th>Median Tumor Volume</th>\n",
       "      <th>Tumor Volume Variance</th>\n",
       "      <th>Tumor Volume Std. Dev.</th>\n",
       "      <th>Tumor Volume Std. Err.</th>\n",
       "    </tr>\n",
       "    <tr>\n",
       "      <th>Drug Regimen</th>\n",
       "      <th></th>\n",
       "      <th></th>\n",
       "      <th></th>\n",
       "      <th></th>\n",
       "      <th></th>\n",
       "    </tr>\n",
       "  </thead>\n",
       "  <tbody>\n",
       "    <tr>\n",
       "      <td>Capomulin</td>\n",
       "      <td>40.675741</td>\n",
       "      <td>41.557809</td>\n",
       "      <td>NaN</td>\n",
       "      <td>NaN</td>\n",
       "      <td>NaN</td>\n",
       "    </tr>\n",
       "    <tr>\n",
       "      <td>Ceftamin</td>\n",
       "      <td>52.591172</td>\n",
       "      <td>51.776157</td>\n",
       "      <td>NaN</td>\n",
       "      <td>NaN</td>\n",
       "      <td>NaN</td>\n",
       "    </tr>\n",
       "    <tr>\n",
       "      <td>Infubinol</td>\n",
       "      <td>52.884795</td>\n",
       "      <td>51.820584</td>\n",
       "      <td>NaN</td>\n",
       "      <td>NaN</td>\n",
       "      <td>NaN</td>\n",
       "    </tr>\n",
       "    <tr>\n",
       "      <td>Ketapril</td>\n",
       "      <td>55.235638</td>\n",
       "      <td>53.698743</td>\n",
       "      <td>NaN</td>\n",
       "      <td>NaN</td>\n",
       "      <td>NaN</td>\n",
       "    </tr>\n",
       "    <tr>\n",
       "      <td>Naftisol</td>\n",
       "      <td>54.331565</td>\n",
       "      <td>52.509285</td>\n",
       "      <td>NaN</td>\n",
       "      <td>NaN</td>\n",
       "      <td>NaN</td>\n",
       "    </tr>\n",
       "  </tbody>\n",
       "</table>\n",
       "</div>"
      ],
      "text/plain": [
       "              Mean Tumor Volume  Median Tumor Volume  Tumor Volume Variance  \\\n",
       "Drug Regimen                                                                  \n",
       "Capomulin             40.675741            41.557809                    NaN   \n",
       "Ceftamin              52.591172            51.776157                    NaN   \n",
       "Infubinol             52.884795            51.820584                    NaN   \n",
       "Ketapril              55.235638            53.698743                    NaN   \n",
       "Naftisol              54.331565            52.509285                    NaN   \n",
       "\n",
       "              Tumor Volume Std. Dev.  Tumor Volume Std. Err.  \n",
       "Drug Regimen                                                  \n",
       "Capomulin                        NaN                     NaN  \n",
       "Ceftamin                         NaN                     NaN  \n",
       "Infubinol                        NaN                     NaN  \n",
       "Ketapril                         NaN                     NaN  \n",
       "Naftisol                         NaN                     NaN  "
      ]
     },
     "execution_count": 80,
     "metadata": {},
     "output_type": "execute_result"
    }
   ],
   "source": [
    "#--Combine mean, median, Variance\n",
    "mouse_table = pd.merge(mouse_table,mouse_sem, on = 'Drug Regimen')\n",
    "mouse_table.head()\n",
    "\n",
    "mouse_table_1 = mouse_table.loc[:,['Mean Tumor Volume','Median Tumor Volume', 'Tumor Volume Variance_x',\n",
    "       'Tumor Volume Std. Dev._x', 'Tumor Volume Std. Err._x']]\n",
    "mouse_table_1=mouse_table_1.rename(columns={'Tumor Volume Variance_x':'Tumor Volume Variance',\n",
    "                                            'Tumor Volume Std. Dev._x':'Tumor Volume Std. Dev.', \n",
    "                                            'Tumor Volume Std. Err._x':'Tumor Volume Std. Err.'})\n",
    "mouse_table_1.head()"
   ]
  },
  {
   "cell_type": "markdown",
   "metadata": {},
   "source": [
    "## Summary statisctics Table 2"
   ]
  },
  {
   "cell_type": "code",
   "execution_count": 54,
   "metadata": {},
   "outputs": [
    {
     "data": {
      "text/html": [
       "<div>\n",
       "<style scoped>\n",
       "    .dataframe tbody tr th:only-of-type {\n",
       "        vertical-align: middle;\n",
       "    }\n",
       "\n",
       "    .dataframe tbody tr th {\n",
       "        vertical-align: top;\n",
       "    }\n",
       "\n",
       "    .dataframe thead th {\n",
       "        text-align: right;\n",
       "    }\n",
       "</style>\n",
       "<table border=\"1\" class=\"dataframe\">\n",
       "  <thead>\n",
       "    <tr style=\"text-align: right;\">\n",
       "      <th></th>\n",
       "      <th>Tumor Volume (mm3) mean</th>\n",
       "      <th>median</th>\n",
       "      <th>var</th>\n",
       "      <th>std</th>\n",
       "      <th>sem</th>\n",
       "    </tr>\n",
       "    <tr>\n",
       "      <th>Drug Regimen</th>\n",
       "      <th></th>\n",
       "      <th></th>\n",
       "      <th></th>\n",
       "      <th></th>\n",
       "      <th></th>\n",
       "    </tr>\n",
       "  </thead>\n",
       "  <tbody>\n",
       "    <tr>\n",
       "      <td>Capomulin</td>\n",
       "      <td>40.675741</td>\n",
       "      <td>41.557809</td>\n",
       "      <td>24.947764</td>\n",
       "      <td>4.994774</td>\n",
       "      <td>0.329346</td>\n",
       "    </tr>\n",
       "    <tr>\n",
       "      <td>Ceftamin</td>\n",
       "      <td>52.591172</td>\n",
       "      <td>51.776157</td>\n",
       "      <td>39.290177</td>\n",
       "      <td>6.268188</td>\n",
       "      <td>0.469821</td>\n",
       "    </tr>\n",
       "    <tr>\n",
       "      <td>Infubinol</td>\n",
       "      <td>52.884795</td>\n",
       "      <td>51.820584</td>\n",
       "      <td>43.128684</td>\n",
       "      <td>6.567243</td>\n",
       "      <td>0.492236</td>\n",
       "    </tr>\n",
       "    <tr>\n",
       "      <td>Ketapril</td>\n",
       "      <td>55.235638</td>\n",
       "      <td>53.698743</td>\n",
       "      <td>68.553577</td>\n",
       "      <td>8.279709</td>\n",
       "      <td>0.603860</td>\n",
       "    </tr>\n",
       "    <tr>\n",
       "      <td>Naftisol</td>\n",
       "      <td>54.331565</td>\n",
       "      <td>52.509285</td>\n",
       "      <td>66.173479</td>\n",
       "      <td>8.134708</td>\n",
       "      <td>0.596466</td>\n",
       "    </tr>\n",
       "  </tbody>\n",
       "</table>\n",
       "</div>"
      ],
      "text/plain": [
       "              Tumor Volume (mm3) mean     median        var       std  \\\n",
       "Drug Regimen                                                            \n",
       "Capomulin                   40.675741  41.557809  24.947764  4.994774   \n",
       "Ceftamin                    52.591172  51.776157  39.290177  6.268188   \n",
       "Infubinol                   52.884795  51.820584  43.128684  6.567243   \n",
       "Ketapril                    55.235638  53.698743  68.553577  8.279709   \n",
       "Naftisol                    54.331565  52.509285  66.173479  8.134708   \n",
       "\n",
       "                   sem  \n",
       "Drug Regimen            \n",
       "Capomulin     0.329346  \n",
       "Ceftamin      0.469821  \n",
       "Infubinol     0.492236  \n",
       "Ketapril      0.603860  \n",
       "Naftisol      0.596466  "
      ]
     },
     "execution_count": 54,
     "metadata": {},
     "output_type": "execute_result"
    }
   ],
   "source": [
    "#--Collect all data rename and print summary\n",
    "mouse_table_2 = mouse_table.loc[:,['Mean Tumor Volume','Median Tumor Volume', 'Tumor Volume Variance',\n",
    "       'Tumor Volume Std. Dev.', 'Tumor Volume Std. Err.']]\n",
    "mouse_table_2=mouse_table_2.rename(columns={'Mean Tumor Volume':'Tumor Volume (mm3) mean',\n",
    "                                            'Median Tumor Volume':\"median\",\n",
    "                                           'Tumor Volume Variance':'var',\n",
    "                                           'Tumor Volume Std. Dev.':'std', \n",
    "                                            'Tumor Volume Std. Err.':'sem'})\n",
    "mouse_table_2.head()"
   ]
  },
  {
   "cell_type": "markdown",
   "metadata": {},
   "source": [
    "## Pandas Plots Bar Chart"
   ]
  },
  {
   "cell_type": "code",
   "execution_count": 55,
   "metadata": {
    "scrolled": true
   },
   "outputs": [
    {
     "data": {
      "image/png": "[encoded data removed]",
      "text/plain": [
       "<Figure size 432x288 with 1 Axes>"
      ]
     },
     "metadata": {
      "needs_background": "light"
     },
     "output_type": "display_data"
    }
   ],
   "source": [
    "#--Collect the data into variable \n",
    "panda_mouse_bar = combined_data['Drug Regimen'].value_counts()\n",
    "\n",
    "#--Plot bar chart using Panda (number of data points for each treatment regimen) \n",
    "panda_mouse_bar.plot(kind='bar',facecolor='blue')\n",
    "\n",
    "#--Add x and y label and show graph\n",
    "plt.tight_layout()\n",
    "plt.ylabel(\"Number of Data Points\")\n",
    "plt.xlabel(\"Drug Regimen\")\n",
    "plt.show()"
   ]
  },
  {
   "cell_type": "markdown",
   "metadata": {},
   "source": [
    "## MatPlotLib Plots Bar Chart"
   ]
  },
  {
   "cell_type": "code",
   "execution_count": 56,
   "metadata": {},
   "outputs": [
    {
     "data": {
      "image/png": "[encoded data removed]",
      "text/plain": [
       "<Figure size 432x288 with 1 Axes>"
      ]
     },
     "metadata": {
      "needs_background": "light"
     },
     "output_type": "display_data"
    }
   ],
   "source": [
    "#--Assign x_axis and y_axis \n",
    "x = combined_data['Drug Regimen'].value_counts()\n",
    "x_axis = np.arange(1,len(x)+1,1)\n",
    "y_axis = x\n",
    "\n",
    "#--Plot bar chart using pyplot (number of data points for each treatment regimen) \n",
    "plt.bar(x_axis,y_axis, color='b',align='center')\n",
    "\n",
    "#--Place x_axis header\n",
    "x_header = combined_data['Drug Regimen']\n",
    "x_axis_header = x_header.unique()\n",
    "x_axis_header\n",
    "tick_locations = [value for value in x_axis]\n",
    "plt.xticks(tick_locations, x_axis_header, rotation = \"vertical\")\n",
    "\n",
    "#--Add x and y label and show graph\n",
    "plt.ylabel(\"Number of Data Points\")\n",
    "plt.xlabel(\"Drug Regimen\")\n",
    "plt.tight_layout()\n",
    "plt.show()"
   ]
  },
  {
   "cell_type": "markdown",
   "metadata": {},
   "source": [
    "## Pandas Plots Pie Chart"
   ]
  },
  {
   "cell_type": "code",
   "execution_count": 57,
   "metadata": {},
   "outputs": [
    {
     "data": {
      "text/plain": [
       "Text(0.5, 1.0, 'Sex')"
      ]
     },
     "execution_count": 57,
     "metadata": {},
     "output_type": "execute_result"
    },
    {
     "data": {
      "image/png": "[encoded data removed]",
      "text/plain": [
       "<Figure size 432x288 with 1 Axes>"
      ]
     },
     "metadata": {},
     "output_type": "display_data"
    }
   ],
   "source": [
    "#-Showing the distribution of female VS male mice\n",
    "#--Collect data\n",
    "mouse_gender = mouse_metadata['Sex'].value_counts()\n",
    "mouse_gender\n",
    "\n",
    "#--Plot pie chart using pandas\n",
    "mouse_gender.plot(kind='pie',autopct='%1.1f%%')\n",
    "plt.title(\"Sex\")"
   ]
  },
  {
   "cell_type": "markdown",
   "metadata": {},
   "source": [
    "## MatPlotLib Plots Pie Chart"
   ]
  },
  {
   "cell_type": "code",
   "execution_count": 58,
   "metadata": {},
   "outputs": [
    {
     "data": {
      "text/plain": [
       "Text(0.0, 1.0, 'Sex')"
      ]
     },
     "execution_count": 58,
     "metadata": {},
     "output_type": "execute_result"
    },
    {
     "data": {
      "image/png": "[encoded data removed]",
      "text/plain": [
       "<Figure size 432x288 with 1 Axes>"
      ]
     },
     "metadata": {},
     "output_type": "display_data"
    }
   ],
   "source": [
    "#-Showing the distribution of female VS male mice\n",
    "#--Collect data\n",
    "mouse_gender = mouse_metadata['Sex'].unique()\n",
    "mouse_gender_df = mouse_metadata['Sex'].value_counts()\n",
    "\n",
    "#--Plot pie chart using pyplots\n",
    "plt.pie(\n",
    "    mouse_gender_df,\n",
    "    labels=mouse_gender,\n",
    "    autopct='%1.1f%%'\n",
    "    )\n",
    "plt.title(\"Sex\",loc = 'left')\n",
    "##--How to use this\n",
    "# fontdict : dict\n",
    "# A dictionary controlling the appearance of the title text, the default fontdict is:\n",
    "\n",
    "# {'fontsize': rcParams['axes.titlesize'],\n",
    "#  'fontweight' : rcParams['axes.titleweight'],\n",
    "#  'verticalalignment': 'baseline',\n",
    "#  'horizontalalignment': loc}"
   ]
  },
  {
   "cell_type": "markdown",
   "metadata": {},
   "source": [
    "## Quartiles, outliers and boxplots"
   ]
  },
  {
   "cell_type": "code",
   "execution_count": 59,
   "metadata": {},
   "outputs": [],
   "source": [
    "#--Select dataframe to calculate\n",
    "# combined_data.head(2)"
   ]
  },
  {
   "cell_type": "code",
   "execution_count": 60,
   "metadata": {},
   "outputs": [],
   "source": [
    "#--Find the last timepoint of each mouse using max()\n",
    "final_tumor_max_timepoint = combined_data.groupby([\"Mouse ID\"]).max()"
   ]
  },
  {
   "cell_type": "code",
   "execution_count": 61,
   "metadata": {},
   "outputs": [],
   "source": [
    "#--Merge dataframe to collect \n",
    "final_tumor = pd.merge(final_tumor_max_timepoint, combined_data, on  = 'Mouse ID')\n",
    "\n",
    "\n",
    "box_plot_df= final_tumor.loc[(final_tumor['Timepoint_x']==final_tumor['Timepoint_y']),['Drug Regimen_x',                                                                                     \n",
    "                                                                                       'Tumor Volume (mm3)_y']]"
   ]
  },
  {
   "cell_type": "code",
   "execution_count": 62,
   "metadata": {},
   "outputs": [],
   "source": [
    "#--Plot box chart for capomulin\n",
    "Capomulin = box_plot_df.loc[box_plot_df['Drug Regimen_x']=='Capomulin','Tumor Volume (mm3)_y']\n",
    "Ramicane = box_plot_df.loc[box_plot_df['Drug Regimen_x']=='Ramicane','Tumor Volume (mm3)_y']\n",
    "Infubinol = box_plot_df.loc[box_plot_df['Drug Regimen_x']=='Infubinol','Tumor Volume (mm3)_y']\n",
    "Ceftamin = box_plot_df.loc[box_plot_df['Drug Regimen_x']=='Ceftamin','Tumor Volume (mm3)_y']"
   ]
  },
  {
   "cell_type": "code",
   "execution_count": 63,
   "metadata": {},
   "outputs": [
    {
     "data": {
      "image/png": "[encoded data removed]",
      "text/plain": [
       "<Figure size 432x288 with 1 Axes>"
      ]
     },
     "metadata": {
      "needs_background": "light"
     },
     "output_type": "display_data"
    }
   ],
   "source": [
    "#--Plot the box chart combining four drug reigmen vs final tumor volume\n",
    "data = Capomulin,Ramicane,Infubinol,Ceftamin\n",
    "fig1, ax1 = plt.subplots()\n",
    "ax1.boxplot(data)\n",
    "plt.ylabel(\"Final Tumor Volume (mm3)\")\n",
    "plt.xticks([1, 2, 3,4], ['Capomulin','Ramicane','Infubinol','Ceftamin'])\n",
    "plt.show()"
   ]
  },
  {
   "cell_type": "markdown",
   "metadata": {},
   "source": [
    "## Line Plots"
   ]
  },
  {
   "cell_type": "code",
   "execution_count": 64,
   "metadata": {},
   "outputs": [],
   "source": [
    "#--Extract rows corresponding only to Capomulin\n",
    "capomulin_df = combined_data.loc[(combined_data['Drug Regimen']=='Capomulin') \n",
    "                                 & (combined_data['Mouse ID']=='l509'),['Timepoint','Tumor Volume (mm3)']]\n"
   ]
  },
  {
   "cell_type": "code",
   "execution_count": 65,
   "metadata": {},
   "outputs": [
    {
     "data": {
      "image/png": "[encoded data removed]",
      "text/plain": [
       "<Figure size 432x288 with 1 Axes>"
      ]
     },
     "metadata": {
      "needs_background": "light"
     },
     "output_type": "display_data"
    }
   ],
   "source": [
    "lines = capomulin_df.plot(kind='line',x='Timepoint',y='Tumor Volume (mm3)', color='b')\n",
    "#--Add x and y label and show graph\n",
    "plt.title(\"Capomulin treatment of mouse |509\")\n",
    "plt.ylabel(\"Tumor Volume (mm3)\")\n",
    "plt.xlabel(\"Timepoint (days)\")\n",
    "plt.tight_layout()\n",
    "plt.show()\n"
   ]
  },
  {
   "cell_type": "markdown",
   "metadata": {},
   "source": [
    "## Scatter Plot"
   ]
  },
  {
   "cell_type": "code",
   "execution_count": 66,
   "metadata": {},
   "outputs": [
    {
     "data": {
      "text/html": [
       "<div>\n",
       "<style scoped>\n",
       "    .dataframe tbody tr th:only-of-type {\n",
       "        vertical-align: middle;\n",
       "    }\n",
       "\n",
       "    .dataframe tbody tr th {\n",
       "        vertical-align: top;\n",
       "    }\n",
       "\n",
       "    .dataframe thead th {\n",
       "        text-align: right;\n",
       "    }\n",
       "</style>\n",
       "<table border=\"1\" class=\"dataframe\">\n",
       "  <thead>\n",
       "    <tr style=\"text-align: right;\">\n",
       "      <th></th>\n",
       "      <th>Mouse ID</th>\n",
       "      <th>Timepoint</th>\n",
       "      <th>Tumor Volume (mm3)</th>\n",
       "      <th>Metastatic Sites</th>\n",
       "      <th>Drug Regimen</th>\n",
       "      <th>Sex</th>\n",
       "      <th>Age_months</th>\n",
       "      <th>Weight (g)</th>\n",
       "    </tr>\n",
       "  </thead>\n",
       "  <tbody>\n",
       "    <tr>\n",
       "      <td>0</td>\n",
       "      <td>b128</td>\n",
       "      <td>0</td>\n",
       "      <td>45.000000</td>\n",
       "      <td>0</td>\n",
       "      <td>Capomulin</td>\n",
       "      <td>Female</td>\n",
       "      <td>9</td>\n",
       "      <td>22</td>\n",
       "    </tr>\n",
       "    <tr>\n",
       "      <td>1</td>\n",
       "      <td>b128</td>\n",
       "      <td>5</td>\n",
       "      <td>45.651331</td>\n",
       "      <td>0</td>\n",
       "      <td>Capomulin</td>\n",
       "      <td>Female</td>\n",
       "      <td>9</td>\n",
       "      <td>22</td>\n",
       "    </tr>\n",
       "    <tr>\n",
       "      <td>2</td>\n",
       "      <td>b128</td>\n",
       "      <td>10</td>\n",
       "      <td>43.270852</td>\n",
       "      <td>0</td>\n",
       "      <td>Capomulin</td>\n",
       "      <td>Female</td>\n",
       "      <td>9</td>\n",
       "      <td>22</td>\n",
       "    </tr>\n",
       "    <tr>\n",
       "      <td>3</td>\n",
       "      <td>b128</td>\n",
       "      <td>15</td>\n",
       "      <td>43.784893</td>\n",
       "      <td>0</td>\n",
       "      <td>Capomulin</td>\n",
       "      <td>Female</td>\n",
       "      <td>9</td>\n",
       "      <td>22</td>\n",
       "    </tr>\n",
       "    <tr>\n",
       "      <td>4</td>\n",
       "      <td>b128</td>\n",
       "      <td>20</td>\n",
       "      <td>42.731552</td>\n",
       "      <td>0</td>\n",
       "      <td>Capomulin</td>\n",
       "      <td>Female</td>\n",
       "      <td>9</td>\n",
       "      <td>22</td>\n",
       "    </tr>\n",
       "    <tr>\n",
       "      <td>5</td>\n",
       "      <td>b128</td>\n",
       "      <td>25</td>\n",
       "      <td>43.262145</td>\n",
       "      <td>1</td>\n",
       "      <td>Capomulin</td>\n",
       "      <td>Female</td>\n",
       "      <td>9</td>\n",
       "      <td>22</td>\n",
       "    </tr>\n",
       "    <tr>\n",
       "      <td>6</td>\n",
       "      <td>b128</td>\n",
       "      <td>30</td>\n",
       "      <td>40.605335</td>\n",
       "      <td>1</td>\n",
       "      <td>Capomulin</td>\n",
       "      <td>Female</td>\n",
       "      <td>9</td>\n",
       "      <td>22</td>\n",
       "    </tr>\n",
       "    <tr>\n",
       "      <td>7</td>\n",
       "      <td>b128</td>\n",
       "      <td>35</td>\n",
       "      <td>37.967644</td>\n",
       "      <td>1</td>\n",
       "      <td>Capomulin</td>\n",
       "      <td>Female</td>\n",
       "      <td>9</td>\n",
       "      <td>22</td>\n",
       "    </tr>\n",
       "    <tr>\n",
       "      <td>8</td>\n",
       "      <td>b128</td>\n",
       "      <td>40</td>\n",
       "      <td>38.379726</td>\n",
       "      <td>2</td>\n",
       "      <td>Capomulin</td>\n",
       "      <td>Female</td>\n",
       "      <td>9</td>\n",
       "      <td>22</td>\n",
       "    </tr>\n",
       "    <tr>\n",
       "      <td>9</td>\n",
       "      <td>b128</td>\n",
       "      <td>45</td>\n",
       "      <td>38.982878</td>\n",
       "      <td>2</td>\n",
       "      <td>Capomulin</td>\n",
       "      <td>Female</td>\n",
       "      <td>9</td>\n",
       "      <td>22</td>\n",
       "    </tr>\n",
       "    <tr>\n",
       "      <td>10</td>\n",
       "      <td>f932</td>\n",
       "      <td>0</td>\n",
       "      <td>45.000000</td>\n",
       "      <td>0</td>\n",
       "      <td>Ketapril</td>\n",
       "      <td>Male</td>\n",
       "      <td>15</td>\n",
       "      <td>29</td>\n",
       "    </tr>\n",
       "    <tr>\n",
       "      <td>11</td>\n",
       "      <td>g107</td>\n",
       "      <td>0</td>\n",
       "      <td>45.000000</td>\n",
       "      <td>0</td>\n",
       "      <td>Ketapril</td>\n",
       "      <td>Female</td>\n",
       "      <td>2</td>\n",
       "      <td>29</td>\n",
       "    </tr>\n",
       "  </tbody>\n",
       "</table>\n",
       "</div>"
      ],
      "text/plain": [
       "   Mouse ID  Timepoint  Tumor Volume (mm3)  Metastatic Sites Drug Regimen  \\\n",
       "0      b128          0           45.000000                 0    Capomulin   \n",
       "1      b128          5           45.651331                 0    Capomulin   \n",
       "2      b128         10           43.270852                 0    Capomulin   \n",
       "3      b128         15           43.784893                 0    Capomulin   \n",
       "4      b128         20           42.731552                 0    Capomulin   \n",
       "5      b128         25           43.262145                 1    Capomulin   \n",
       "6      b128         30           40.605335                 1    Capomulin   \n",
       "7      b128         35           37.967644                 1    Capomulin   \n",
       "8      b128         40           38.379726                 2    Capomulin   \n",
       "9      b128         45           38.982878                 2    Capomulin   \n",
       "10     f932          0           45.000000                 0     Ketapril   \n",
       "11     g107          0           45.000000                 0     Ketapril   \n",
       "\n",
       "       Sex  Age_months  Weight (g)  \n",
       "0   Female           9          22  \n",
       "1   Female           9          22  \n",
       "2   Female           9          22  \n",
       "3   Female           9          22  \n",
       "4   Female           9          22  \n",
       "5   Female           9          22  \n",
       "6   Female           9          22  \n",
       "7   Female           9          22  \n",
       "8   Female           9          22  \n",
       "9   Female           9          22  \n",
       "10    Male          15          29  \n",
       "11  Female           2          29  "
      ]
     },
     "execution_count": 66,
     "metadata": {},
     "output_type": "execute_result"
    }
   ],
   "source": [
    "#--Select dataframe to calculate\n",
    "combined_data.head(12)"
   ]
  },
  {
   "cell_type": "code",
   "execution_count": 67,
   "metadata": {},
   "outputs": [],
   "source": [
    "#--Collect data\n",
    "Capomulin_weight_df = combined_data.loc[combined_data['Drug Regimen']=='Capomulin',['Mouse ID','Tumor Volume (mm3)','Weight (g)']]\n"
   ]
  },
  {
   "cell_type": "code",
   "execution_count": 68,
   "metadata": {
    "scrolled": true
   },
   "outputs": [
    {
     "data": {
      "text/plain": [
       "Text(0, 0.5, 'Average Tumor Volume (mm3)')"
      ]
     },
     "execution_count": 68,
     "metadata": {},
     "output_type": "execute_result"
    },
    {
     "data": {
      "image/png": "[encoded data removed]",
      "text/plain": [
       "<Figure size 432x288 with 1 Axes>"
      ]
     },
     "metadata": {
      "needs_background": "light"
     },
     "output_type": "display_data"
    }
   ],
   "source": [
    "#--Find average of mouse weigth versus average tumor volume\n",
    "weigth_vs_tumor = Capomulin_weight_df.groupby('Mouse ID').mean()\n",
    "\n",
    "#--Plot scatter chart for mouse weigth vs average tumor volume for the Capomulin regimen\n",
    "x = weigth_vs_tumor['Weight (g)']\n",
    "y = weigth_vs_tumor['Tumor Volume (mm3)']\n",
    "scatter = plt.scatter(x,y)\n",
    "plt.xlabel('Weight (g)')\n",
    "plt.ylabel('Average Tumor Volume (mm3)')"
   ]
  },
  {
   "cell_type": "code",
   "execution_count": 69,
   "metadata": {},
   "outputs": [
    {
     "data": {
      "image/png": "[encoded data removed]",
      "text/plain": [
       "<Figure size 432x288 with 1 Axes>"
      ]
     },
     "metadata": {
      "needs_background": "light"
     },
     "output_type": "display_data"
    }
   ],
   "source": [
    "#--Calculate Correlation\n",
    "correlation = st.pearsonr(weigth_vs_tumor['Weight (g)'],weigth_vs_tumor['Tumor Volume (mm3)'])\n",
    "\n",
    "# Add the linear regression equation and line to plot\n",
    "x_values = weigth_vs_tumor['Weight (g)']\n",
    "y_values = weigth_vs_tumor['Tumor Volume (mm3)']\n",
    "(slope, intercept, rvalue, pvalue, stderr) = linregress(x_values, y_values)\n",
    "regress_values = x_values * slope + intercept\n",
    "line_eq = \"y = \" + str(round(slope,2)) + \"x + \" + str(round(intercept,2))\n",
    "plt.scatter(x_values,y_values)\n",
    "plt.plot(x_values,regress_values,\"r-\")\n",
    "plt.annotate(line_eq,(6,10),fontsize=15,color=\"red\")\n",
    "plt.xlabel('Weight (g)')\n",
    "plt.ylabel('Average Tumor Volume (mm3)')\n",
    "plt.show()"
   ]
  },
  {
   "cell_type": "code",
   "execution_count": null,
   "metadata": {},
   "outputs": [],
   "source": []
  }
 ],
 "metadata": {
  "kernelspec": {
   "display_name": "Python 3",
   "language": "python",
   "name": "python3"
  },
  "language_info": {
   "codemirror_mode": {
    "name": "ipython",
    "version": 3
   },
   "file_extension": ".py",
   "mimetype": "text/x-python",
   "name": "python",
   "nbconvert_exporter": "python",
   "pygments_lexer": "ipython3",
   "version": "3.7.4"
  }
 },
 "nbformat": 4,
 "nbformat_minor": 2
}
