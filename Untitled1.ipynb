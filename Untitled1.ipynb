{
 "cells": [
  {
   "cell_type": "code",
   "execution_count": 5,
   "metadata": {},
   "outputs": [
    {
     "data": {
      "image/png": "[encoded data removed]",
      "text/plain": [
       "<Figure size 432x288 with 1 Axes>"
      ]
     },
     "metadata": {
      "needs_background": "light"
     },
     "output_type": "display_data"
    }
   ],
   "source": [
    "# library\n",
    "import matplotlib.pyplot as plt\n",
    " \n",
    "# Make fake dataset\n",
    "height = [3, 12, 5, 18, 45]\n",
    "bars = ('A', 'B', 'C', 'D', 'E')\n",
    " \n",
    "# Choose the position of each barplots on the x-axis (space=1,4,3,1)\n",
    "# y_pos = [0,4,3,2,1]\n",
    "y_pos = [0,1,5,8,9]\n",
    "\n",
    " \n",
    "# Create bars\n",
    "plt.bar(y_pos, height)\n",
    " \n",
    "# Create names on the x-axis\n",
    "plt.xticks(y_pos, bars)\n",
    " \n",
    "# Show graphic\n",
    "plt.show()\n"
   ]
  },
  {
   "cell_type": "code",
   "execution_count": 13,
   "metadata": {},
   "outputs": [
    {
     "data": {
      "image/png": "[encoded data removed]",
      "text/plain": [
       "<Figure size 432x288 with 1 Axes>"
      ]
     },
     "metadata": {
      "needs_background": "light"
     },
     "output_type": "display_data"
    }
   ],
   "source": [
    "# library\n",
    "import matplotlib.pyplot as plt\n",
    " \n",
    "# Make fake dataset\n",
    "height = [3, 12, 5, 18, 45]\n",
    "bars = ('A', 'B', 'C', 'D', 'E')\n",
    "# Choose the width of each bar and their positions\n",
    "# width = [0.1,0.2,3,1.5,0.3]\n",
    "# y_pos = [0,0.3,2,4.5,5.5]\n",
    "width = [0.1,0.2,3,1.5,0.3]\n",
    "y_pos = [0,0.3,2,4.5,5.5]\n",
    "\n",
    "# Make the plot\n",
    "plt.bar(y_pos, height, width=width)\n",
    "plt.xticks(y_pos, bars)\n",
    "plt.show()\n"
   ]
  },
  {
   "cell_type": "code",
   "execution_count": 14,
   "metadata": {},
   "outputs": [
    {
     "data": {
      "image/png": "[encoded data removed]",
      "text/plain": [
       "<Figure size 432x288 with 1 Axes>"
      ]
     },
     "metadata": {
      "needs_background": "light"
     },
     "output_type": "display_data"
    }
   ],
   "source": [
    "# library\n",
    "import matplotlib.pyplot as plt\n",
    " \n",
    "# Make fake dataset\n",
    "height = [3, 12, 5, 18, 45]\n",
    "bars = ('A', 'B', 'C', 'D', 'E')\n",
    "# Choose the width of each bar and their positions\n",
    "# width = [0.1,0.2,3,1.5,0.3]\n",
    "# y_pos = [0,0.3,2,4.5,5.5]\n",
    "width = [0.1,0.2,3,1.5,0.3]\n",
    "y_pos = [0,0.3,0,4.5,5.5]\n",
    "\n",
    "# Make the plot\n",
    "plt.bar(y_pos, height, width=width)\n",
    "plt.xticks(y_pos, bars)\n",
    "plt.show()\n"
   ]
  }
 ],
 "metadata": {
  "kernelspec": {
   "display_name": "Python 3",
   "language": "python",
   "name": "python3"
  },
  "language_info": {
   "codemirror_mode": {
    "name": "ipython",
    "version": 3
   },
   "file_extension": ".py",
   "mimetype": "text/x-python",
   "name": "python",
   "nbconvert_exporter": "python",
   "pygments_lexer": "ipython3",
   "version": "3.7.4"
  }
 },
 "nbformat": 4,
 "nbformat_minor": 2
}
